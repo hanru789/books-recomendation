{
  "nbformat": 4,
  "nbformat_minor": 0,
  "metadata": {
    "colab": {
      "provenance": []
    },
    "kernelspec": {
      "name": "python3",
      "display_name": "Python 3"
    },
    "language_info": {
      "name": "python"
    }
  },
  "cells": [
    {
      "cell_type": "code",
      "execution_count": null,
      "metadata": {
        "id": "lb6MFQ5dJqPc"
      },
      "outputs": [],
      "source": [
        "import os\n",
        "import numpy as np\n",
        "import pandas as pd\n",
        "import zipfile\n",
        "import tensorflow as tf\n",
        "import matplotlib.pyplot as plt\n",
        "import pathlib"
      ]
    },
    {
      "cell_type": "code",
      "source": [
        "zipref = zipfile.ZipFile('/content/drive/MyDrive/Colab Notebooks/data/weather.zip', 'r')\n",
        "zipref.extractall('/tmp')\n",
        "zipref.close()"
      ],
      "metadata": {
        "id": "0MJM0s-vJtyJ"
      },
      "execution_count": null,
      "outputs": []
    },
    {
      "cell_type": "code",
      "source": [
        "hail = '/tmp/dataset/hail'\n",
        "rainbow = '/tmp/dataset/rainbow'\n",
        "frost = '/tmp/dataset/frost'\n",
        "rime = '/tmp/dataset/rime'\n",
        "fogsmog = '/tmp/dataset/fogsmog'\n",
        "snow = '/tmp/dataset/snow'\n",
        "rain = '/tmp/dataset/rain'\n",
        "glaze = '/tmp/dataset/glaze'\n",
        "lightning = '/tmp/dataset/lightning'\n",
        "sandstorm = '/tmp/dataset/sandstorm'\n",
        "dew = '/tmp/dataset/dew'"
      ],
      "metadata": {
        "id": "HpfB6F_fJvsO"
      },
      "execution_count": null,
      "outputs": []
    },
    {
      "cell_type": "code",
      "source": [
        "len(os.listdir(hail))+len(os.listdir(frost))\n",
        "#kategori = ['rain', 'snow', 'rainbow']"
      ],
      "metadata": {
        "colab": {
          "base_uri": "https://localhost:8080/"
        },
        "id": "JshZ733rJyEi",
        "outputId": "76d8fb1d-47ea-4a55-bd32-256f10098e00"
      },
      "execution_count": null,
      "outputs": [
        {
          "output_type": "execute_result",
          "data": {
            "text/plain": [
              "1066"
            ]
          },
          "metadata": {},
          "execution_count": 5
        }
      ]
    },
    {
      "cell_type": "code",
      "source": [
        "a = os.listdir(rain)\n",
        "b = int(len(os.listdir(rain))*0.8)\n",
        "c= a[0:b]\n",
        "\n",
        "for i in c:\n",
        "  dari = os.path.join(rain, i)\n",
        "  ke = os.path.join('/tmp/weather/train/rain', i)\n",
        "  os.renames(dari, ke)\n",
        "\n",
        "a = os.listdir(rain)\n",
        "for i in a:\n",
        "  dari = os.path.join(rain, i)\n",
        "  ke = os.path.join('/tmp/weather/val/rain', i)\n",
        "  os.renames(dari, ke)"
      ],
      "metadata": {
        "id": "Q_m6qV5NJz2Z"
      },
      "execution_count": null,
      "outputs": []
    },
    {
      "cell_type": "code",
      "source": [
        "a = os.listdir(snow)\n",
        "b = int(len(os.listdir(snow))*0.8)\n",
        "c= a[0:b]\n",
        "\n",
        "for i in c:\n",
        "  dari = os.path.join(snow, i)\n",
        "  ke = os.path.join('/tmp/weather/train/snow', i)\n",
        "  os.renames(dari, ke)\n",
        "\n",
        "a = os.listdir(snow)\n",
        "for i in a:\n",
        "  dari = os.path.join(snow, i)\n",
        "  ke = os.path.join('/tmp/weather/val/snow', i)\n",
        "  os.renames(dari, ke)"
      ],
      "metadata": {
        "id": "X2lXAWouJ16p"
      },
      "execution_count": null,
      "outputs": []
    },
    {
      "cell_type": "code",
      "source": [
        "a = os.listdir(rainbow)\n",
        "b = int(len(os.listdir(rainbow))*0.8)\n",
        "c= a[0:b]\n",
        "\n",
        "for i in c:\n",
        "  dari = os.path.join(rainbow, i)\n",
        "  ke = os.path.join('/tmp/weather/train/rainbow', i)\n",
        "  os.renames(dari, ke)\n",
        "\n",
        "a = os.listdir(rainbow)\n",
        "for i in a:\n",
        "  dari = os.path.join(rainbow, i)\n",
        "  ke = os.path.join('/tmp/weather/val/rainbow', i)\n",
        "  os.renames(dari, ke)"
      ],
      "metadata": {
        "id": "0-gFNnG1J3nq"
      },
      "execution_count": null,
      "outputs": []
    },
    {
      "cell_type": "code",
      "source": [
        "from tensorflow.keras.preprocessing.image import ImageDataGenerator\n",
        "\n",
        "train_datagen = ImageDataGenerator(\n",
        "    rescale=1./255,\n",
        "    rotation_range=20,\n",
        "    horizontal_flip=True,\n",
        "    shear_range= 0.2,\n",
        "    fill_mode = 'nearest'\n",
        ")\n",
        "\n",
        "test_datagen = ImageDataGenerator(\n",
        "    rescale=1./255\n",
        ")"
      ],
      "metadata": {
        "id": "GmpWmk5lJ5Qj"
      },
      "execution_count": null,
      "outputs": []
    },
    {
      "cell_type": "code",
      "source": [
        "train_generator = train_datagen.flow_from_directory(\n",
        "    '/tmp/weather/train',\n",
        "    target_size=(150,150),\n",
        "    batch_size=32,\n",
        "    class_mode='categorical',\n",
        ")\n",
        "\n",
        "validation_generator = test_datagen.flow_from_directory(\n",
        "    '/tmp/weather/val',\n",
        "    target_size=(150,150),\n",
        "    batch_size=32,\n",
        "    class_mode='categorical'\n",
        ")"
      ],
      "metadata": {
        "colab": {
          "base_uri": "https://localhost:8080/"
        },
        "id": "w_A645m6J7DR",
        "outputId": "d9aed549-cea8-4e2b-f403-672556350d3e"
      },
      "execution_count": null,
      "outputs": [
        {
          "output_type": "stream",
          "name": "stdout",
          "text": [
            "Found 1101 images belonging to 3 classes.\n",
            "Found 278 images belonging to 3 classes.\n"
          ]
        }
      ]
    },
    {
      "cell_type": "code",
      "source": [
        "model = tf.keras.models.Sequential([\n",
        "                                    tf.keras.layers.Conv2D(32, (3,3), activation='relu', input_shape=(150, 150, 3)),\n",
        "                                    tf.keras.layers.MaxPooling2D(2, 2),\n",
        "                                    tf.keras.layers.Conv2D(64, (3,3), activation='relu'),\n",
        "                                    tf.keras.layers.MaxPooling2D(2,2),\n",
        "                                    tf.keras.layers.Conv2D(128, (3,3), activation='relu'),\n",
        "                                    tf.keras.layers.MaxPooling2D(2,2),\n",
        "                                    tf.keras.layers.Conv2D(512, (3,3), activation='relu'),\n",
        "                                    tf.keras.layers.MaxPooling2D(2,2),\n",
        "                                    tf.keras.layers.Flatten(),\n",
        "                                    tf.keras.layers.Dense(512, activation='relu'),\n",
        "                                    tf.keras.layers.Dense(3, activation='softmax')\n",
        "                                    ])"
      ],
      "metadata": {
        "id": "2KELA3xiJ85h"
      },
      "execution_count": null,
      "outputs": []
    },
    {
      "cell_type": "code",
      "source": [
        "model.summary()"
      ],
      "metadata": {
        "colab": {
          "base_uri": "https://localhost:8080/"
        },
        "id": "sJPmrGGKJ_A2",
        "outputId": "c64346ae-7c96-4a71-b8b4-590d4b55f716"
      },
      "execution_count": null,
      "outputs": [
        {
          "output_type": "stream",
          "name": "stdout",
          "text": [
            "Model: \"sequential\"\n",
            "_________________________________________________________________\n",
            " Layer (type)                Output Shape              Param #   \n",
            "=================================================================\n",
            " conv2d (Conv2D)             (None, 148, 148, 32)      896       \n",
            "                                                                 \n",
            " max_pooling2d (MaxPooling2D  (None, 74, 74, 32)       0         \n",
            " )                                                               \n",
            "                                                                 \n",
            " conv2d_1 (Conv2D)           (None, 72, 72, 64)        18496     \n",
            "                                                                 \n",
            " max_pooling2d_1 (MaxPooling  (None, 36, 36, 64)       0         \n",
            " 2D)                                                             \n",
            "                                                                 \n",
            " conv2d_2 (Conv2D)           (None, 34, 34, 128)       73856     \n",
            "                                                                 \n",
            " max_pooling2d_2 (MaxPooling  (None, 17, 17, 128)      0         \n",
            " 2D)                                                             \n",
            "                                                                 \n",
            " conv2d_3 (Conv2D)           (None, 15, 15, 512)       590336    \n",
            "                                                                 \n",
            " max_pooling2d_3 (MaxPooling  (None, 7, 7, 512)        0         \n",
            " 2D)                                                             \n",
            "                                                                 \n",
            " flatten (Flatten)           (None, 25088)             0         \n",
            "                                                                 \n",
            " dense (Dense)               (None, 512)               12845568  \n",
            "                                                                 \n",
            " dense_1 (Dense)             (None, 3)                 1539      \n",
            "                                                                 \n",
            "=================================================================\n",
            "Total params: 13,530,691\n",
            "Trainable params: 13,530,691\n",
            "Non-trainable params: 0\n",
            "_________________________________________________________________\n"
          ]
        }
      ]
    },
    {
      "cell_type": "code",
      "source": [
        "model.compile(loss='categorical_crossentropy',\n",
        "              optimizer=tf.optimizers.Adam(),\n",
        "              metrics=['accuracy'])"
      ],
      "metadata": {
        "id": "Z-IOgwWiKA1V"
      },
      "execution_count": null,
      "outputs": []
    },
    {
      "cell_type": "code",
      "source": [
        "class myCallback(tf.keras.callbacks.Callback):\n",
        "  def on_epoch_end(self, epoch, logs={}):\n",
        "    if(logs.get('val_accuracy')>0.9):\n",
        "      print(\"\\nAkurasi telah mencapai >90%!\")\n",
        "      self.model.stop_training = True\n",
        "callbacks = myCallback()"
      ],
      "metadata": {
        "id": "XPMvSFYoKCl1"
      },
      "execution_count": null,
      "outputs": []
    },
    {
      "cell_type": "code",
      "source": [
        "history = model.fit(\n",
        "    train_generator,\n",
        "    steps_per_epoch=15,\n",
        "    epochs=20,\n",
        "    validation_data=validation_generator,\n",
        "    validation_steps=5,\n",
        "    verbose=1,\n",
        "    callbacks=[callbacks])"
      ],
      "metadata": {
        "colab": {
          "base_uri": "https://localhost:8080/"
        },
        "id": "ocEeUNE0KGJO",
        "outputId": "c09409a1-7a3f-445f-e74c-540270d4f6ef"
      },
      "execution_count": null,
      "outputs": [
        {
          "output_type": "stream",
          "name": "stdout",
          "text": [
            "Epoch 1/20\n",
            "15/15 [==============================] - 38s 2s/step - loss: 1.1242 - accuracy: 0.4230 - val_loss: 1.0226 - val_accuracy: 0.3938\n",
            "Epoch 2/20\n",
            "15/15 [==============================] - 37s 2s/step - loss: 0.8874 - accuracy: 0.5401 - val_loss: 0.7385 - val_accuracy: 0.7312\n",
            "Epoch 3/20\n",
            "15/15 [==============================] - 36s 2s/step - loss: 0.7210 - accuracy: 0.6790 - val_loss: 0.6486 - val_accuracy: 0.6687\n",
            "Epoch 4/20\n",
            "15/15 [==============================] - 34s 2s/step - loss: 0.7009 - accuracy: 0.6876 - val_loss: 0.6968 - val_accuracy: 0.7125\n",
            "Epoch 5/20\n",
            "15/15 [==============================] - 35s 2s/step - loss: 0.6660 - accuracy: 0.7072 - val_loss: 0.7977 - val_accuracy: 0.6313\n",
            "Epoch 6/20\n",
            "15/15 [==============================] - 35s 2s/step - loss: 0.6912 - accuracy: 0.6508 - val_loss: 0.4953 - val_accuracy: 0.8125\n",
            "Epoch 7/20\n",
            "15/15 [==============================] - 34s 2s/step - loss: 0.5055 - accuracy: 0.8026 - val_loss: 0.5528 - val_accuracy: 0.8000\n",
            "Epoch 8/20\n",
            "15/15 [==============================] - 37s 2s/step - loss: 0.5575 - accuracy: 0.7874 - val_loss: 0.4137 - val_accuracy: 0.8313\n",
            "Epoch 9/20\n",
            "15/15 [==============================] - 37s 2s/step - loss: 0.5773 - accuracy: 0.7417 - val_loss: 0.4251 - val_accuracy: 0.8188\n",
            "Epoch 10/20\n",
            "15/15 [==============================] - 35s 2s/step - loss: 0.5604 - accuracy: 0.7527 - val_loss: 0.4726 - val_accuracy: 0.8062\n",
            "Epoch 11/20\n",
            "15/15 [==============================] - 36s 2s/step - loss: 0.5016 - accuracy: 0.7854 - val_loss: 0.4798 - val_accuracy: 0.8062\n",
            "Epoch 12/20\n",
            "15/15 [==============================] - 37s 2s/step - loss: 0.5076 - accuracy: 0.7937 - val_loss: 0.3933 - val_accuracy: 0.8313\n",
            "Epoch 13/20\n",
            "15/15 [==============================] - 35s 2s/step - loss: 0.5376 - accuracy: 0.7570 - val_loss: 0.4362 - val_accuracy: 0.7937\n",
            "Epoch 14/20\n",
            "15/15 [==============================] - 36s 2s/step - loss: 0.4086 - accuracy: 0.8604 - val_loss: 0.7888 - val_accuracy: 0.7437\n",
            "Epoch 15/20\n",
            "15/15 [==============================] - 35s 2s/step - loss: 0.7841 - accuracy: 0.6768 - val_loss: 0.5978 - val_accuracy: 0.8000\n",
            "Epoch 16/20\n",
            "15/15 [==============================] - 36s 2s/step - loss: 0.5446 - accuracy: 0.7937 - val_loss: 0.3633 - val_accuracy: 0.8687\n",
            "Epoch 17/20\n",
            "15/15 [==============================] - 37s 2s/step - loss: 0.4152 - accuracy: 0.8313 - val_loss: 0.4204 - val_accuracy: 0.8500\n",
            "Epoch 18/20\n",
            "15/15 [==============================] - 36s 2s/step - loss: 0.3646 - accuracy: 0.8562 - val_loss: 0.3810 - val_accuracy: 0.8438\n",
            "Epoch 19/20\n",
            "15/15 [==============================] - 37s 2s/step - loss: 0.3245 - accuracy: 0.8604 - val_loss: 0.3310 - val_accuracy: 0.8750\n",
            "Epoch 20/20\n",
            "15/15 [==============================] - 37s 2s/step - loss: 0.4094 - accuracy: 0.8375 - val_loss: 0.3246 - val_accuracy: 0.8687\n"
          ]
        }
      ]
    },
    {
      "cell_type": "code",
      "source": [
        "plt.plot(history.history['accuracy'])\n",
        "plt.plot(history.history['val_accuracy'])\n",
        "plt.title('Accuracyl')\n",
        "plt.ylabel('accuracy')\n",
        "plt.xlabel('epoch')\n",
        "plt.legend(['train', 'test'], loc='upper left')\n",
        "plt.show()"
      ],
      "metadata": {
        "colab": {
          "base_uri": "https://localhost:8080/",
          "height": 295
        },
        "id": "8zK_5CtIK4yS",
        "outputId": "62eeb0be-81c3-46e6-f759-8e634e4c604c"
      },
      "execution_count": null,
      "outputs": [
        {
          "output_type": "display_data",
          "data": {
            "image/png": "[encoded data removed]",
            "text/plain": [
              "<Figure size 432x288 with 1 Axes>"
            ]
          },
          "metadata": {
            "needs_background": "light"
          }
        }
      ]
    },
    {
      "cell_type": "code",
      "source": [
        "plt.plot(history.history['loss'])\n",
        "plt.plot(history.history['val_loss'])\n",
        "plt.title('Loss')\n",
        "plt.ylabel('loss')\n",
        "plt.xlabel('epoch')\n",
        "plt.legend(['train', 'test'], loc='upper left')\n",
        "plt.show()"
      ],
      "metadata": {
        "colab": {
          "base_uri": "https://localhost:8080/",
          "height": 295
        },
        "id": "jpMDHX6lOx_7",
        "outputId": "6eacca89-9522-4530-a264-4c8c994baf61"
      },
      "execution_count": null,
      "outputs": [
        {
          "output_type": "display_data",
          "data": {
            "image/png": "[encoded data removed]",
            "text/plain": [
              "<Figure size 432x288 with 1 Axes>"
            ]
          },
          "metadata": {
            "needs_background": "light"
          }
        }
      ]
    },
    {
      "cell_type": "code",
      "source": [
        "export_dir = 'saved_model/'\n",
        "tf.saved_model.save(model, export_dir)"
      ],
      "metadata": {
        "colab": {
          "base_uri": "https://localhost:8080/"
        },
        "id": "-Qo-OLqiOZgd",
        "outputId": "7e992b71-ddcd-4e9e-f04c-f0de22e51d36"
      },
      "execution_count": null,
      "outputs": [
        {
          "output_type": "stream",
          "name": "stdout",
          "text": [
            "INFO:tensorflow:Assets written to: saved_model/assets\n"
          ]
        },
        {
          "output_type": "stream",
          "name": "stderr",
          "text": [
            "INFO:tensorflow:Assets written to: saved_model/assets\n"
          ]
        }
      ]
    },
    {
      "cell_type": "code",
      "source": [
        "converter = tf.lite.TFLiteConverter.from_saved_model(export_dir)\n",
        "tflite_model = converter.convert()\n",
        "\n",
        "tflite_model_file = pathlib.Path('vegs.tflite')\n",
        "tflite_model_file.write_bytes(tflite_model)"
      ],
      "metadata": {
        "colab": {
          "base_uri": "https://localhost:8080/"
        },
        "id": "jB6qTcAGOd--",
        "outputId": "c905944b-c250-406c-ccff-bfc0f36e7782"
      },
      "execution_count": null,
      "outputs": [
        {
          "output_type": "stream",
          "name": "stderr",
          "text": [
            "WARNING:absl:Buffer deduplication procedure will be skipped when flatbuffer library is not properly loaded\n"
          ]
        },
        {
          "output_type": "execute_result",
          "data": {
            "text/plain": [
              "54126960"
            ]
          },
          "metadata": {},
          "execution_count": 25
        }
      ]
    }
  ]
}