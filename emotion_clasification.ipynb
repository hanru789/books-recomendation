{
  "cells": [
    {
      "cell_type": "markdown",
      "metadata": {
        "id": "oJ_IOY4FMTSx"
      },
      "source": [
        "### **KLASIFIKASI EMOSI**"
      ]
    },
    {
      "cell_type": "markdown",
      "source": [
        "Data diri : Ruhan Masykuri"
      ],
      "metadata": {
        "id": "rzYS48lou4SM"
      }
    },
    {
      "cell_type": "code",
      "execution_count": null,
      "metadata": {
        "colab": {
          "base_uri": "https://localhost:8080/"
        },
        "id": "iIXrjoCqMacs",
        "outputId": "c5f4cb2f-174a-40f0-df65-ea40a9b045c3"
      },
      "outputs": [
        {
          "output_type": "stream",
          "name": "stdout",
          "text": [
            "Drive already mounted at /content/drive; to attempt to forcibly remount, call drive.mount(\"/content/drive\", force_remount=True).\n"
          ]
        }
      ],
      "source": [
        "from google.colab import drive\n",
        "drive.mount('/content/drive')"
      ]
    },
    {
      "cell_type": "code",
      "execution_count": null,
      "metadata": {
        "id": "VijnWKlbMcKl"
      },
      "outputs": [],
      "source": [
        "import os\n",
        "import zipfile\n",
        "import pandas as pd\n",
        "import numpy as np\n",
        "from sklearn.model_selection import train_test_split\n",
        "from tensorflow.keras.preprocessing.text import Tokenizer\n",
        "from tensorflow.keras.preprocessing.sequence import pad_sequences\n",
        "import tensorflow as tf\n",
        "import matplotlib.pyplot as plt"
      ]
    },
    {
      "cell_type": "code",
      "execution_count": null,
      "metadata": {
        "colab": {
          "base_uri": "https://localhost:8080/"
        },
        "id": "salyXiRUMqI-",
        "outputId": "75bde382-cdc6-4f55-a992-073a8d363cb4"
      },
      "outputs": [
        {
          "output_type": "execute_result",
          "data": {
            "text/plain": [
              "<bound method ZipFile.close of <zipfile.ZipFile filename='/content/drive/MyDrive/Colab Notebooks/data/emotion_in_text.zip' mode='r'>>"
            ]
          },
          "metadata": {},
          "execution_count": 17
        }
      ],
      "source": [
        "zip_dir = '/content/drive/MyDrive/Colab Notebooks/data/emotion_in_text.zip'\n",
        "zip = zipfile.ZipFile( zip_dir, 'r')\n",
        "zip.extractall('/tmp/')\n",
        "zip.close"
      ]
    },
    {
      "cell_type": "code",
      "execution_count": null,
      "metadata": {
        "colab": {
          "base_uri": "https://localhost:8080/"
        },
        "id": "n1wtboNVNVKE",
        "outputId": "48cf6446-7cda-46b6-b996-cceee0dde8f8"
      },
      "outputs": [
        {
          "output_type": "stream",
          "name": "stdout",
          "text": [
            "<class 'pandas.core.frame.DataFrame'>\n",
            "RangeIndex: 21459 entries, 0 to 21458\n",
            "Data columns (total 2 columns):\n",
            " #   Column   Non-Null Count  Dtype \n",
            "---  ------   --------------  ----- \n",
            " 0   Text     21459 non-null  object\n",
            " 1   Emotion  21459 non-null  object\n",
            "dtypes: object(2)\n",
            "memory usage: 335.4+ KB\n",
            "None\n"
          ]
        },
        {
          "output_type": "execute_result",
          "data": {
            "text/plain": [
              "<bound method NDFrame.head of                                                     Text  Emotion\n",
              "0                                i didnt feel humiliated  sadness\n",
              "1      i can go from feeling so hopeless to so damned...  sadness\n",
              "2       im grabbing a minute to post i feel greedy wrong    anger\n",
              "3      i am ever feeling nostalgic about the fireplac...     love\n",
              "4                                   i am feeling grouchy    anger\n",
              "...                                                  ...      ...\n",
              "21454               Melissa stared at her friend in dism     fear\n",
              "21455  Successive state elections have seen the gover...     fear\n",
              "21456               Vincent was irritated but not dismay     fear\n",
              "21457  Kendall-Hume turned back to face the dismayed ...     fear\n",
              "21458                    I am dismayed , but not surpris     fear\n",
              "\n",
              "[21459 rows x 2 columns]>"
            ]
          },
          "metadata": {},
          "execution_count": 18
        }
      ],
      "source": [
        "df = pd.read_csv('/tmp/Emotion_final.csv')\n",
        "print(df.info())\n",
        "df.head"
      ]
    },
    {
      "cell_type": "code",
      "execution_count": null,
      "metadata": {
        "id": "SEnCelhKNqhA",
        "colab": {
          "base_uri": "https://localhost:8080/"
        },
        "outputId": "aa7d766c-4464-4048-f603-c3344b112fed"
      },
      "outputs": [
        {
          "output_type": "execute_result",
          "data": {
            "text/plain": [
              "list"
            ]
          },
          "metadata": {},
          "execution_count": 19
        }
      ],
      "source": [
        "emosi = set(df.Emotion)\n",
        "emosi = list(emosi)\n",
        "type(emosi)"
      ]
    },
    {
      "cell_type": "code",
      "execution_count": null,
      "metadata": {
        "colab": {
          "base_uri": "https://localhost:8080/",
          "height": 424
        },
        "id": "NYVretHuN0na",
        "outputId": "efee0ec5-4329-44b0-b28c-56b148e4ebe5"
      },
      "outputs": [
        {
          "output_type": "execute_result",
          "data": {
            "text/html": [
              "\n",
              "  <div id=\"df-8ad93d23-4fac-4ed2-a041-0e5a14e32432\">\n",
              "    <div class=\"colab-df-container\">\n",
              "      <div>\n",
              "<style scoped>\n",
              "    .dataframe tbody tr th:only-of-type {\n",
              "        vertical-align: middle;\n",
              "    }\n",
              "\n",
              "    .dataframe tbody tr th {\n",
              "        vertical-align: top;\n",
              "    }\n",
              "\n",
              "    .dataframe thead th {\n",
              "        text-align: right;\n",
              "    }\n",
              "</style>\n",
              "<table border=\"1\" class=\"dataframe\">\n",
              "  <thead>\n",
              "    <tr style=\"text-align: right;\">\n",
              "      <th></th>\n",
              "      <th>anger</th>\n",
              "      <th>fear</th>\n",
              "      <th>happy</th>\n",
              "      <th>love</th>\n",
              "      <th>sadness</th>\n",
              "      <th>surprise</th>\n",
              "    </tr>\n",
              "  </thead>\n",
              "  <tbody>\n",
              "    <tr>\n",
              "      <th>0</th>\n",
              "      <td>0</td>\n",
              "      <td>0</td>\n",
              "      <td>0</td>\n",
              "      <td>0</td>\n",
              "      <td>1</td>\n",
              "      <td>0</td>\n",
              "    </tr>\n",
              "    <tr>\n",
              "      <th>1</th>\n",
              "      <td>0</td>\n",
              "      <td>0</td>\n",
              "      <td>0</td>\n",
              "      <td>0</td>\n",
              "      <td>1</td>\n",
              "      <td>0</td>\n",
              "    </tr>\n",
              "    <tr>\n",
              "      <th>2</th>\n",
              "      <td>1</td>\n",
              "      <td>0</td>\n",
              "      <td>0</td>\n",
              "      <td>0</td>\n",
              "      <td>0</td>\n",
              "      <td>0</td>\n",
              "    </tr>\n",
              "    <tr>\n",
              "      <th>3</th>\n",
              "      <td>0</td>\n",
              "      <td>0</td>\n",
              "      <td>0</td>\n",
              "      <td>1</td>\n",
              "      <td>0</td>\n",
              "      <td>0</td>\n",
              "    </tr>\n",
              "    <tr>\n",
              "      <th>4</th>\n",
              "      <td>1</td>\n",
              "      <td>0</td>\n",
              "      <td>0</td>\n",
              "      <td>0</td>\n",
              "      <td>0</td>\n",
              "      <td>0</td>\n",
              "    </tr>\n",
              "    <tr>\n",
              "      <th>...</th>\n",
              "      <td>...</td>\n",
              "      <td>...</td>\n",
              "      <td>...</td>\n",
              "      <td>...</td>\n",
              "      <td>...</td>\n",
              "      <td>...</td>\n",
              "    </tr>\n",
              "    <tr>\n",
              "      <th>21454</th>\n",
              "      <td>0</td>\n",
              "      <td>1</td>\n",
              "      <td>0</td>\n",
              "      <td>0</td>\n",
              "      <td>0</td>\n",
              "      <td>0</td>\n",
              "    </tr>\n",
              "    <tr>\n",
              "      <th>21455</th>\n",
              "      <td>0</td>\n",
              "      <td>1</td>\n",
              "      <td>0</td>\n",
              "      <td>0</td>\n",
              "      <td>0</td>\n",
              "      <td>0</td>\n",
              "    </tr>\n",
              "    <tr>\n",
              "      <th>21456</th>\n",
              "      <td>0</td>\n",
              "      <td>1</td>\n",
              "      <td>0</td>\n",
              "      <td>0</td>\n",
              "      <td>0</td>\n",
              "      <td>0</td>\n",
              "    </tr>\n",
              "    <tr>\n",
              "      <th>21457</th>\n",
              "      <td>0</td>\n",
              "      <td>1</td>\n",
              "      <td>0</td>\n",
              "      <td>0</td>\n",
              "      <td>0</td>\n",
              "      <td>0</td>\n",
              "    </tr>\n",
              "    <tr>\n",
              "      <th>21458</th>\n",
              "      <td>0</td>\n",
              "      <td>1</td>\n",
              "      <td>0</td>\n",
              "      <td>0</td>\n",
              "      <td>0</td>\n",
              "      <td>0</td>\n",
              "    </tr>\n",
              "  </tbody>\n",
              "</table>\n",
              "<p>21459 rows × 6 columns</p>\n",
              "</div>\n",
              "      <button class=\"colab-df-convert\" onclick=\"convertToInteractive('df-8ad93d23-4fac-4ed2-a041-0e5a14e32432')\"\n",
              "              title=\"Convert this dataframe to an interactive table.\"\n",
              "              style=\"display:none;\">\n",
              "        \n",
              "  <svg xmlns=\"http://www.w3.org/2000/svg\" height=\"24px\"viewBox=\"0 0 24 24\"\n",
              "       width=\"24px\">\n",
              "    <path d=\"M0 0h24v24H0V0z\" fill=\"none\"/>\n",
              "    <path d=\"M18.56 5.44l.94 2.06.94-2.06 2.06-.94-2.06-.94-.94-2.06-.94 2.06-2.06.94zm-11 1L8.5 8.5l.94-2.06 2.06-.94-2.06-.94L8.5 2.5l-.94 2.06-2.06.94zm10 10l.94 2.06.94-2.06 2.06-.94-2.06-.94-.94-2.06-.94 2.06-2.06.94z\"/><path d=\"M17.41 7.96l-1.37-1.37c-.4-.4-.92-.59-1.43-.59-.52 0-1.04.2-1.43.59L10.3 9.45l-7.72 7.72c-.78.78-.78 2.05 0 2.83L4 21.41c.39.39.9.59 1.41.59.51 0 1.02-.2 1.41-.59l7.78-7.78 2.81-2.81c.8-.78.8-2.07 0-2.86zM5.41 20L4 18.59l7.72-7.72 1.47 1.35L5.41 20z\"/>\n",
              "  </svg>\n",
              "      </button>\n",
              "      \n",
              "  <style>\n",
              "    .colab-df-container {\n",
              "      display:flex;\n",
              "      flex-wrap:wrap;\n",
              "      gap: 12px;\n",
              "    }\n",
              "\n",
              "    .colab-df-convert {\n",
              "      background-color: #E8F0FE;\n",
              "      border: none;\n",
              "      border-radius: 50%;\n",
              "      cursor: pointer;\n",
              "      display: none;\n",
              "      fill: #1967D2;\n",
              "      height: 32px;\n",
              "      padding: 0 0 0 0;\n",
              "      width: 32px;\n",
              "    }\n",
              "\n",
              "    .colab-df-convert:hover {\n",
              "      background-color: #E2EBFA;\n",
              "      box-shadow: 0px 1px 2px rgba(60, 64, 67, 0.3), 0px 1px 3px 1px rgba(60, 64, 67, 0.15);\n",
              "      fill: #174EA6;\n",
              "    }\n",
              "\n",
              "    [theme=dark] .colab-df-convert {\n",
              "      background-color: #3B4455;\n",
              "      fill: #D2E3FC;\n",
              "    }\n",
              "\n",
              "    [theme=dark] .colab-df-convert:hover {\n",
              "      background-color: #434B5C;\n",
              "      box-shadow: 0px 1px 3px 1px rgba(0, 0, 0, 0.15);\n",
              "      filter: drop-shadow(0px 1px 2px rgba(0, 0, 0, 0.3));\n",
              "      fill: #FFFFFF;\n",
              "    }\n",
              "  </style>\n",
              "\n",
              "      <script>\n",
              "        const buttonEl =\n",
              "          document.querySelector('#df-8ad93d23-4fac-4ed2-a041-0e5a14e32432 button.colab-df-convert');\n",
              "        buttonEl.style.display =\n",
              "          google.colab.kernel.accessAllowed ? 'block' : 'none';\n",
              "\n",
              "        async function convertToInteractive(key) {\n",
              "          const element = document.querySelector('#df-8ad93d23-4fac-4ed2-a041-0e5a14e32432');\n",
              "          const dataTable =\n",
              "            await google.colab.kernel.invokeFunction('convertToInteractive',\n",
              "                                                     [key], {});\n",
              "          if (!dataTable) return;\n",
              "\n",
              "          const docLinkHtml = 'Like what you see? Visit the ' +\n",
              "            '<a target=\"_blank\" href=https://colab.research.google.com/notebooks/data_table.ipynb>data table notebook</a>'\n",
              "            + ' to learn more about interactive tables.';\n",
              "          element.innerHTML = '';\n",
              "          dataTable['output_type'] = 'display_data';\n",
              "          await google.colab.output.renderOutput(dataTable, element);\n",
              "          const docLink = document.createElement('div');\n",
              "          docLink.innerHTML = docLinkHtml;\n",
              "          element.appendChild(docLink);\n",
              "        }\n",
              "      </script>\n",
              "    </div>\n",
              "  </div>\n",
              "  "
            ],
            "text/plain": [
              "       anger  fear  happy  love  sadness  surprise\n",
              "0          0     0      0     0        1         0\n",
              "1          0     0      0     0        1         0\n",
              "2          1     0      0     0        0         0\n",
              "3          0     0      0     1        0         0\n",
              "4          1     0      0     0        0         0\n",
              "...      ...   ...    ...   ...      ...       ...\n",
              "21454      0     1      0     0        0         0\n",
              "21455      0     1      0     0        0         0\n",
              "21456      0     1      0     0        0         0\n",
              "21457      0     1      0     0        0         0\n",
              "21458      0     1      0     0        0         0\n",
              "\n",
              "[21459 rows x 6 columns]"
            ]
          },
          "metadata": {},
          "execution_count": 20
        }
      ],
      "source": [
        "kategori = pd.get_dummies(df.Emotion)\n",
        "kategori"
      ]
    },
    {
      "cell_type": "code",
      "execution_count": null,
      "metadata": {
        "id": "q2SzV1tdVkbl"
      },
      "outputs": [],
      "source": [
        "new_df = pd.concat([df, kategori], axis=1)\n",
        "new_df = new_df.drop(columns='Emotion')"
      ]
    },
    {
      "cell_type": "code",
      "execution_count": null,
      "metadata": {
        "id": "wixCy9K8WHeg"
      },
      "outputs": [],
      "source": [
        "text = new_df['Text'].values\n",
        "label = new_df[emosi].values"
      ]
    },
    {
      "cell_type": "code",
      "execution_count": null,
      "metadata": {
        "id": "vWClkKkRWnW3"
      },
      "outputs": [],
      "source": [
        "text_train, text_test, label_train, label_test = train_test_split(text, label, train_size=0.2)"
      ]
    },
    {
      "cell_type": "code",
      "execution_count": null,
      "metadata": {
        "id": "9l47RqZ2XC4V"
      },
      "outputs": [],
      "source": [
        "tokenizer = Tokenizer(num_words=5000, oov_token='x')\n",
        "tokenizer.fit_on_texts(text_train)\n",
        "tokenizer.fit_on_texts(text_test)\n",
        "\n",
        "sekuens_train = tokenizer.texts_to_sequences(text_train)\n",
        "sekuens_test = tokenizer.texts_to_sequences(text_test)\n",
        "\n",
        "padded_train = pad_sequences(sekuens_train)\n",
        "padded_test = pad_sequences(sekuens_test)"
      ]
    },
    {
      "cell_type": "code",
      "execution_count": null,
      "metadata": {
        "id": "P9m-FJzae1PK"
      },
      "outputs": [],
      "source": [
        "model2 = tf.keras.Sequential([\n",
        "      tf.keras.layers.Embedding(input_dim=5000, output_dim=16),\n",
        "      tf.keras.layers.LSTM(64),\n",
        "      tf.keras.layers.Dense(128, activation='relu'),\n",
        "      tf.keras.layers.Dense(64, activation='relu'),\n",
        "      tf.keras.layers.Dense(6, activation='softmax')\n",
        "])\n",
        "\n",
        "model2.compile(loss='categorical_crossentropy', optimizer='adam', metrics=['accuracy'])"
      ]
    },
    {
      "cell_type": "code",
      "execution_count": null,
      "metadata": {
        "id": "BwKum9kziWSQ"
      },
      "outputs": [],
      "source": [
        "class myCallback(tf.keras.callbacks.Callback):\n",
        "  def on_epoch_end(self, epoch, logs={}):\n",
        "    if(logs.get('val_accuracy')>0.8):\n",
        "      print(\"\\nAkurasi telah mencapai >80%!\")\n",
        "      self.model.stop_training = True\n",
        "callbacks = myCallback()"
      ]
    },
    {
      "cell_type": "code",
      "execution_count": null,
      "metadata": {
        "colab": {
          "base_uri": "https://localhost:8080/"
        },
        "id": "pkOg-e0_gH07",
        "outputId": "f9fbe724-0126-4c2e-f93a-c7a49d194410"
      },
      "outputs": [
        {
          "output_type": "stream",
          "name": "stdout",
          "text": [
            "Epoch 1/50\n",
            "269/269 - 60s - loss: 1.5842 - accuracy: 0.3319 - val_loss: 1.4833 - val_accuracy: 0.3447 - 60s/epoch - 222ms/step\n",
            "Epoch 2/50\n",
            "269/269 - 18s - loss: 1.2527 - accuracy: 0.4519 - val_loss: 1.3373 - val_accuracy: 0.4964 - 18s/epoch - 67ms/step\n",
            "Epoch 3/50\n",
            "269/269 - 17s - loss: 0.8086 - accuracy: 0.6730 - val_loss: 1.1224 - val_accuracy: 0.6096 - 17s/epoch - 65ms/step\n",
            "Epoch 4/50\n",
            "269/269 - 18s - loss: 0.5648 - accuracy: 0.7756 - val_loss: 1.0174 - val_accuracy: 0.6751 - 18s/epoch - 66ms/step\n",
            "Epoch 5/50\n",
            "269/269 - 18s - loss: 0.3484 - accuracy: 0.8702 - val_loss: 1.1261 - val_accuracy: 0.6851 - 18s/epoch - 67ms/step\n",
            "Epoch 6/50\n",
            "269/269 - 18s - loss: 0.2253 - accuracy: 0.9191 - val_loss: 1.1167 - val_accuracy: 0.7196 - 18s/epoch - 67ms/step\n",
            "Epoch 7/50\n",
            "269/269 - 17s - loss: 0.1804 - accuracy: 0.9385 - val_loss: 1.1886 - val_accuracy: 0.7141 - 17s/epoch - 65ms/step\n",
            "Epoch 8/50\n",
            "269/269 - 18s - loss: 0.1331 - accuracy: 0.9513 - val_loss: 1.3559 - val_accuracy: 0.7178 - 18s/epoch - 67ms/step\n",
            "Epoch 9/50\n",
            "269/269 - 18s - loss: 0.1066 - accuracy: 0.9629 - val_loss: 1.3543 - val_accuracy: 0.7215 - 18s/epoch - 65ms/step\n",
            "Epoch 10/50\n",
            "269/269 - 18s - loss: 0.0838 - accuracy: 0.9706 - val_loss: 1.3674 - val_accuracy: 0.7389 - 18s/epoch - 66ms/step\n",
            "Epoch 11/50\n",
            "269/269 - 18s - loss: 0.0566 - accuracy: 0.9816 - val_loss: 1.5174 - val_accuracy: 0.7487 - 18s/epoch - 68ms/step\n",
            "Epoch 12/50\n",
            "269/269 - 18s - loss: 0.0407 - accuracy: 0.9879 - val_loss: 1.5242 - val_accuracy: 0.7513 - 18s/epoch - 66ms/step\n",
            "Epoch 13/50\n",
            "269/269 - 18s - loss: 0.0440 - accuracy: 0.9865 - val_loss: 1.7003 - val_accuracy: 0.7448 - 18s/epoch - 67ms/step\n",
            "Epoch 14/50\n",
            "269/269 - 17s - loss: 0.0516 - accuracy: 0.9844 - val_loss: 1.4826 - val_accuracy: 0.7551 - 17s/epoch - 65ms/step\n",
            "Epoch 15/50\n",
            "269/269 - 18s - loss: 0.0307 - accuracy: 0.9911 - val_loss: 1.6001 - val_accuracy: 0.7485 - 18s/epoch - 66ms/step\n",
            "Epoch 16/50\n",
            "269/269 - 17s - loss: 0.0164 - accuracy: 0.9951 - val_loss: 1.6900 - val_accuracy: 0.7587 - 17s/epoch - 65ms/step\n",
            "Epoch 17/50\n",
            "269/269 - 18s - loss: 0.0128 - accuracy: 0.9965 - val_loss: 1.7619 - val_accuracy: 0.7526 - 18s/epoch - 66ms/step\n",
            "Epoch 18/50\n",
            "269/269 - 18s - loss: 0.0297 - accuracy: 0.9909 - val_loss: 1.7129 - val_accuracy: 0.7605 - 18s/epoch - 67ms/step\n",
            "Epoch 19/50\n",
            "269/269 - 18s - loss: 0.0322 - accuracy: 0.9888 - val_loss: 1.6630 - val_accuracy: 0.7616 - 18s/epoch - 65ms/step\n",
            "Epoch 20/50\n",
            "269/269 - 17s - loss: 0.0245 - accuracy: 0.9909 - val_loss: 1.7665 - val_accuracy: 0.7619 - 17s/epoch - 65ms/step\n",
            "Epoch 21/50\n",
            "269/269 - 18s - loss: 0.0291 - accuracy: 0.9909 - val_loss: 1.5818 - val_accuracy: 0.7753 - 18s/epoch - 65ms/step\n",
            "Epoch 22/50\n",
            "269/269 - 18s - loss: 0.0400 - accuracy: 0.9874 - val_loss: 1.5270 - val_accuracy: 0.7721 - 18s/epoch - 67ms/step\n",
            "Epoch 23/50\n",
            "269/269 - 18s - loss: 0.0191 - accuracy: 0.9935 - val_loss: 1.5744 - val_accuracy: 0.7713 - 18s/epoch - 66ms/step\n",
            "Epoch 24/50\n",
            "269/269 - 18s - loss: 0.0047 - accuracy: 0.9988 - val_loss: 1.6568 - val_accuracy: 0.7679 - 18s/epoch - 66ms/step\n",
            "Epoch 25/50\n",
            "269/269 - 18s - loss: 0.0063 - accuracy: 0.9984 - val_loss: 1.7645 - val_accuracy: 0.7748 - 18s/epoch - 66ms/step\n",
            "Epoch 26/50\n",
            "269/269 - 17s - loss: 0.0037 - accuracy: 0.9991 - val_loss: 1.7788 - val_accuracy: 0.7789 - 17s/epoch - 65ms/step\n",
            "Epoch 27/50\n",
            "269/269 - 17s - loss: 0.0080 - accuracy: 0.9972 - val_loss: 1.7675 - val_accuracy: 0.7697 - 17s/epoch - 65ms/step\n",
            "Epoch 28/50\n",
            "269/269 - 18s - loss: 0.0200 - accuracy: 0.9942 - val_loss: 1.7278 - val_accuracy: 0.7425 - 18s/epoch - 66ms/step\n",
            "Epoch 29/50\n",
            "269/269 - 18s - loss: 0.0430 - accuracy: 0.9835 - val_loss: 1.5683 - val_accuracy: 0.7671 - 18s/epoch - 66ms/step\n",
            "Epoch 30/50\n",
            "269/269 - 17s - loss: 0.0125 - accuracy: 0.9960 - val_loss: 1.5635 - val_accuracy: 0.7806 - 17s/epoch - 64ms/step\n",
            "Epoch 31/50\n",
            "269/269 - 17s - loss: 0.0149 - accuracy: 0.9956 - val_loss: 1.6264 - val_accuracy: 0.7793 - 17s/epoch - 64ms/step\n",
            "Epoch 32/50\n",
            "269/269 - 17s - loss: 0.0081 - accuracy: 0.9972 - val_loss: 1.6759 - val_accuracy: 0.7737 - 17s/epoch - 65ms/step\n",
            "Epoch 33/50\n",
            "269/269 - 17s - loss: 0.0026 - accuracy: 0.9991 - val_loss: 1.7437 - val_accuracy: 0.7836 - 17s/epoch - 65ms/step\n",
            "Epoch 34/50\n",
            "269/269 - 18s - loss: 0.0023 - accuracy: 0.9995 - val_loss: 1.7869 - val_accuracy: 0.7834 - 18s/epoch - 66ms/step\n",
            "Epoch 35/50\n",
            "269/269 - 18s - loss: 0.0042 - accuracy: 0.9991 - val_loss: 1.7642 - val_accuracy: 0.7788 - 18s/epoch - 67ms/step\n",
            "Epoch 36/50\n",
            "269/269 - 18s - loss: 0.0138 - accuracy: 0.9963 - val_loss: 2.1641 - val_accuracy: 0.7713 - 18s/epoch - 69ms/step\n",
            "Epoch 37/50\n",
            "269/269 - 18s - loss: 0.0498 - accuracy: 0.9858 - val_loss: 1.5337 - val_accuracy: 0.7846 - 18s/epoch - 67ms/step\n",
            "Epoch 38/50\n",
            "269/269 - 17s - loss: 0.0101 - accuracy: 0.9974 - val_loss: 1.5576 - val_accuracy: 0.7802 - 17s/epoch - 65ms/step\n",
            "Epoch 39/50\n",
            "269/269 - 17s - loss: 0.0037 - accuracy: 0.9986 - val_loss: 1.6721 - val_accuracy: 0.7833 - 17s/epoch - 65ms/step\n",
            "Epoch 40/50\n",
            "269/269 - 18s - loss: 0.0019 - accuracy: 0.9995 - val_loss: 1.7140 - val_accuracy: 0.7826 - 18s/epoch - 66ms/step\n",
            "Epoch 41/50\n",
            "269/269 - 17s - loss: 0.0020 - accuracy: 0.9993 - val_loss: 1.7162 - val_accuracy: 0.7808 - 17s/epoch - 65ms/step\n",
            "Epoch 42/50\n",
            "269/269 - 18s - loss: 0.0019 - accuracy: 0.9993 - val_loss: 1.7239 - val_accuracy: 0.7859 - 18s/epoch - 65ms/step\n",
            "Epoch 43/50\n",
            "269/269 - 18s - loss: 0.0012 - accuracy: 0.9995 - val_loss: 1.7961 - val_accuracy: 0.7842 - 18s/epoch - 65ms/step\n",
            "Epoch 44/50\n",
            "269/269 - 17s - loss: 0.0018 - accuracy: 0.9991 - val_loss: 1.7992 - val_accuracy: 0.7893 - 17s/epoch - 65ms/step\n",
            "Epoch 45/50\n",
            "269/269 - 17s - loss: 0.0012 - accuracy: 0.9995 - val_loss: 1.8179 - val_accuracy: 0.7908 - 17s/epoch - 65ms/step\n",
            "Epoch 46/50\n",
            "269/269 - 18s - loss: 0.0015 - accuracy: 0.9993 - val_loss: 1.8201 - val_accuracy: 0.7902 - 18s/epoch - 66ms/step\n",
            "Epoch 47/50\n",
            "269/269 - 18s - loss: 0.0014 - accuracy: 0.9993 - val_loss: 1.8434 - val_accuracy: 0.7908 - 18s/epoch - 65ms/step\n",
            "Epoch 48/50\n",
            "269/269 - 17s - loss: 0.0013 - accuracy: 0.9995 - val_loss: 1.8706 - val_accuracy: 0.7912 - 17s/epoch - 64ms/step\n",
            "Epoch 49/50\n",
            "269/269 - 17s - loss: 0.0011 - accuracy: 0.9991 - val_loss: 1.8899 - val_accuracy: 0.7928 - 17s/epoch - 65ms/step\n",
            "Epoch 50/50\n",
            "269/269 - 17s - loss: 0.0011 - accuracy: 0.9991 - val_loss: 1.9072 - val_accuracy: 0.7925 - 17s/epoch - 64ms/step\n"
          ]
        }
      ],
      "source": [
        "num_epochs =50\n",
        "history = model2.fit(\n",
        "    padded_train, label_train, epochs=num_epochs,\n",
        "    validation_data=(padded_test, label_test), verbose=2, batch_size=16, callbacks=[callbacks])"
      ]
    },
    {
      "cell_type": "code",
      "execution_count": null,
      "metadata": {
        "colab": {
          "base_uri": "https://localhost:8080/",
          "height": 295
        },
        "id": "a8HvfaSzl2oD",
        "outputId": "71305c26-d718-4071-ae43-13d5d5e7e8d2"
      },
      "outputs": [
        {
          "output_type": "display_data",
          "data": {
            "image/png": "[encoded data removed]",
            "text/plain": [
              "<Figure size 432x288 with 1 Axes>"
            ]
          },
          "metadata": {
            "needs_background": "light"
          }
        }
      ],
      "source": [
        "plt.plot(history.history['accuracy'])\n",
        "plt.plot(history.history['val_accuracy'])\n",
        "plt.title('Akurasi Model')\n",
        "plt.ylabel('accuracy')\n",
        "plt.xlabel('epoch')\n",
        "plt.legend(['train', 'test'], loc='upper left')\n",
        "plt.show()"
      ]
    },
    {
      "cell_type": "code",
      "execution_count": null,
      "metadata": {
        "colab": {
          "base_uri": "https://localhost:8080/",
          "height": 295
        },
        "id": "fzofT1n8mjL9",
        "outputId": "06ce8934-2498-4337-ec97-60e012e0c215"
      },
      "outputs": [
        {
          "output_type": "display_data",
          "data": {
            "image/png": "[encoded data removed]",
            "text/plain": [
              "<Figure size 432x288 with 1 Axes>"
            ]
          },
          "metadata": {
            "needs_background": "light"
          }
        }
      ],
      "source": [
        "plt.plot(history.history['loss'])\n",
        "plt.plot(history.history['val_loss'])\n",
        "plt.title('Loss Model')\n",
        "plt.ylabel('accuracy')\n",
        "plt.xlabel('epoch')\n",
        "plt.legend(['train', 'test'], loc='lower left')\n",
        "plt.show()"
      ]
    }
  ],
  "metadata": {
    "colab": {
      "provenance": []
    },
    "kernelspec": {
      "display_name": "Python 3",
      "name": "python3"
    },
    "language_info": {
      "name": "python"
    }
  },
  "nbformat": 4,
  "nbformat_minor": 0
}